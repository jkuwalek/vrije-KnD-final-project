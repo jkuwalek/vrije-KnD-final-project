{
 "cells": [
  {
   "metadata": {},
   "cell_type": "markdown",
   "source": [
    "# Final project\n",
    "\n",
    "\n",
    "let's gooo"
   ],
   "id": "e482ac4f7f2cf208"
  },
  {
   "metadata": {
    "ExecuteTime": {
     "end_time": "2024-10-07T12:39:52.817990Z",
     "start_time": "2024-10-07T12:39:52.812872Z"
    }
   },
   "cell_type": "code",
   "source": "print(':3')",
   "id": "9eef8bae25055e94",
   "outputs": [
    {
     "name": "stdout",
     "output_type": "stream",
     "text": [
      ":3\n"
     ]
    }
   ],
   "execution_count": 1
  },
  {
   "metadata": {},
   "cell_type": "code",
   "outputs": [],
   "execution_count": null,
   "source": "",
   "id": "d5a9bb5c6281f2d7"
  }
 ],
 "metadata": {
  "kernelspec": {
   "display_name": "Python 3",
   "language": "python",
   "name": "python3"
  },
  "language_info": {
   "codemirror_mode": {
    "name": "ipython",
    "version": 2
   },
   "file_extension": ".py",
   "mimetype": "text/x-python",
   "name": "python",
   "nbconvert_exporter": "python",
   "pygments_lexer": "ipython2",
   "version": "2.7.6"
  }
 },
 "nbformat": 4,
 "nbformat_minor": 5
}
