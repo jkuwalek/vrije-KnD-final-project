{
 "cells": [
  {
   "cell_type": "markdown",
   "metadata": {},
   "source": [
    "# Section 1 - Ontology population\n",
    "\n",
    "In this section the empty ontology is populated with instances and their relationships are created.\n"
   ]
  },
  {
   "cell_type": "code",
   "execution_count": 33,
   "metadata": {},
   "outputs": [],
   "source": [
    "from SPARQLWrapper import SPARQLWrapper, JSON\n",
    "from rdflib import Graph, Literal, Namespace, RDFS"
   ]
  },
  {
   "cell_type": "markdown",
   "metadata": {},
   "source": [
    "## Subsection 1.1 - Cities and Population\n",
    "\n",
    "In this section the ontology is populated with dutch cities and their respective populations.\n"
   ]
  },
  {
   "cell_type": "code",
   "execution_count": 34,
   "metadata": {},
   "outputs": [
    {
     "name": "stdout",
     "output_type": "stream",
     "text": [
      "Success!\n"
     ]
    }
   ],
   "source": [
    "sparql = SPARQLWrapper(\"https://query.wikidata.org/sparql\")\n",
    "\n",
    "sparql.setReturnFormat(JSON)\n",
    "\n",
    "\n",
    "# gets the first 3 geological ages\n",
    "\n",
    "# from a Geological Timescale database,\n",
    "\n",
    "# via a SPARQL endpoint\n",
    "\n",
    "sparql.setQuery(\n",
    "    \"\"\"\n",
    "    SELECT DISTINCT ?city ?cityLabel ?cityLabel_en ?population WHERE {\n",
    "    ?city wdt:P31 wd:Q515 . # instance of city\n",
    "    ?city wdt:P17 wd:Q55 . # country Netherlands\n",
    "    ?city wdt:P1082 ?population .\n",
    "    ?city rdfs:label ?cityLabel_en\n",
    "\n",
    "    SERVICE wikibase:label { bd:serviceParam wikibase:language \"nl\". }\n",
    "    FILTER(LANG(?cityLabel_en) = \"en\")\n",
    "}\n",
    "    \"\"\"\n",
    ")\n",
    "\n",
    "Cities = Graph()\n",
    "with open(\"epi-blank.ttl\", \"r\") as f:\n",
    "    Cities.parse(f, format=\"turtle\")\n",
    "\n",
    "EPI = Namespace(\"http://github.com/jkuwalek/vrije-KnD-final-project/ontology/\")\n",
    "Cities.bind(\"epi\", EPI)\n",
    "XSD = Namespace(\"http://www.w3.org/2001/XMLSchema#\")\n",
    "Cities.bind(\"xsd\", XSD)\n",
    "\n",
    "try:\n",
    "    ret = sparql.queryAndConvert()\n",
    "    if not isinstance(ret, dict):\n",
    "        raise Exception(\"not isinstance(ret, dict)\")\n",
    "\n",
    "    for city in ret[\"results\"][\"bindings\"]:\n",
    "        city_name = city[\"cityLabel\"][\"value\"].title().replace(\" \", \"\")\n",
    "        city_uri = EPI[city_name]\n",
    "        population_uri = EPI[f\"PopulationOf{ city_name }\"]\n",
    "        \n",
    "        Cities.add(\n",
    "            (city_uri, RDFS.label, Literal(city[\"cityLabel\"][\"value\"], lang=\"nl\"))\n",
    "        )\n",
    "        Cities.add(\n",
    "            (city_uri, RDFS.label, Literal(city[\"cityLabel_en\"][\"value\"], lang=\"en\"))\n",
    "        )\n",
    "        Cities.add((city_uri, EPI.populatedBy, population_uri))\n",
    "        Cities.add(\n",
    "            (\n",
    "                population_uri,\n",
    "                EPI.size,\n",
    "                Literal(\n",
    "                    city[\"population\"][\"value\"],\n",
    "                    datatype=XSD[\"int\"],\n",
    "                ),\n",
    "            )\n",
    "        )\n",
    "        Cities.add(\n",
    "            (\n",
    "                population_uri,\n",
    "                RDFS.label,\n",
    "                Literal(f\"Population of {city[\"cityLabel\"][\"value\"]}\", lang=\"nl\"),\n",
    "            )\n",
    "        )\n",
    "        Cities.add(\n",
    "            (\n",
    "                population_uri,\n",
    "                RDFS.label,\n",
    "                Literal(f\"Population of {city[\"cityLabel_en\"][\"value\"]}\", lang=\"en\"),\n",
    "            )\n",
    "        )\n",
    "\n",
    "    Cities.serialize(destination=\"population.ttl\", encoding=\"ttl\")\n",
    "except Exception as e:\n",
    "    print(e)\n",
    "else:\n",
    "    print(\"Success!\")"
   ]
  }
 ],
 "metadata": {
  "kernelspec": {
   "display_name": "Python 3",
   "language": "python",
   "name": "python3"
  },
  "language_info": {
   "codemirror_mode": {
    "name": "ipython",
    "version": 3
   },
   "file_extension": ".py",
   "mimetype": "text/x-python",
   "name": "python",
   "nbconvert_exporter": "python",
   "pygments_lexer": "ipython3",
   "version": "3.12.3"
  }
 },
 "nbformat": 4,
 "nbformat_minor": 2
}
